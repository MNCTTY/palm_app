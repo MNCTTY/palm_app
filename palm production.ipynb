{
 "cells": [
  {
   "cell_type": "markdown",
   "metadata": {},
   "source": [
    "План \n",
    "\n",
    "- получить фотку +\n",
    "- обучить классификатор нормально\n",
    "    - обучить классификатор очень хорошо (найти большое разнообразие не-рук, а также в руках оставить только ладони)\n",
    "- проверить, что на ней рука (классификатор обученный) +\n",
    "\n",
    "\n",
    "- проверить, что рука центрирована, освещение хорошее, цвет правильный\n",
    "- задетектить линии методами кз\n",
    "- написать файл с предсказаниями\n",
    "- посчитать их характеристики, сделать предсказания\n",
    "- нарисовать красиво задетектенные линии\n",
    "\n",
    "\n",
    "\n",
    "- обучить эмбеддер рук\n",
    "- вычислить и сохранить ембеддинг руки\n",
    "- сделать базу данных рук и предсказаний\n",
    "- вывести, сколько рук человек похожи на вашу, загружали к нам\n",
    "\n",
    "\n",
    "- оформить код в виде файлов\n",
    "- оформить в виде приложения на flask\n",
    "- завернуть в докер\n",
    "- купить aws\n",
    "- развернуть через докер и ганикорн на aws (внешний ip должен быть)"
   ]
  },
  {
   "cell_type": "code",
   "execution_count": 59,
   "metadata": {},
   "outputs": [],
   "source": [
    "from PIL import Image\n",
    "import cv2\n",
    "import numpy as np\n",
    "import matplotlib.pyplot as plt\n",
    "import keras\n",
    "from keras.preprocessing import image"
   ]
  },
  {
   "cell_type": "code",
   "execution_count": 60,
   "metadata": {},
   "outputs": [],
   "source": [
    "def get_prediction(url, classifier):\n",
    "    raw_test_image = image.load_img(url, target_size = (64, 64))\n",
    "    test_image = image.img_to_array(raw_test_image)\n",
    "    test_image = np.expand_dims(test_image, axis = 0)\n",
    "    result = classifier.predict(test_image)\n",
    "    if result[0][0] == 1:\n",
    "        print('no')\n",
    "    else:\n",
    "        print('hand')\n",
    "    display(raw_test_image)"
   ]
  },
  {
   "cell_type": "code",
   "execution_count": 61,
   "metadata": {},
   "outputs": [],
   "source": [
    "classifier = keras.models.load_model('models/classifier')"
   ]
  },
  {
   "cell_type": "code",
   "execution_count": null,
   "metadata": {},
   "outputs": [],
   "source": []
  },
  {
   "cell_type": "code",
   "execution_count": 68,
   "metadata": {},
   "outputs": [],
   "source": [
    "img=cv2.imread('images/hand.jpeg')\n",
    "path = 'images/hand.jpeg'"
   ]
  },
  {
   "cell_type": "code",
   "execution_count": 69,
   "metadata": {},
   "outputs": [
    {
     "name": "stdout",
     "output_type": "stream",
     "text": [
      "hand\n"
     ]
    },
    {
     "data": {
      "image/png": "[encoded data removed]",
      "text/plain": [
       "<PIL.Image.Image image mode=RGB size=64x64 at 0x15F005A20>"
      ]
     },
     "metadata": {},
     "output_type": "display_data"
    }
   ],
   "source": [
    "get_prediction(path, classifier)"
   ]
  },
  {
   "cell_type": "code",
   "execution_count": null,
   "metadata": {},
   "outputs": [],
   "source": []
  },
  {
   "cell_type": "code",
   "execution_count": null,
   "metadata": {},
   "outputs": [],
   "source": []
  }
 ],
 "metadata": {
  "kernelspec": {
   "display_name": "Python 3",
   "language": "python",
   "name": "python3"
  },
  "language_info": {
   "codemirror_mode": {
    "name": "ipython",
    "version": 3
   },
   "file_extension": ".py",
   "mimetype": "text/x-python",
   "name": "python",
   "nbconvert_exporter": "python",
   "pygments_lexer": "ipython3",
   "version": "3.6.8"
  }
 },
 "nbformat": 4,
 "nbformat_minor": 4
}
