{
 "cells": [
  {
   "cell_type": "code",
   "execution_count": null,
   "metadata": {},
   "outputs": [],
   "source": [
    "# classifier hand or not, \n",
    "# haar casscades give empty results\n",
    "\n",
    "detectorPaths = {\n",
    "    \"fist_2\": \"models/haar/2_fist.xml\",\n",
    "    \"hand_2\": \"models/haar/2_hand.xml\",\n",
    "    \"hand_cas_2\": \"models/haar/2_hand_casscade.xml\",\n",
    "    \"palm_2\": \"models/haar/2_palm.xml\",\n",
    "    \"agest\": \"models/haar/aGest.xml\",\n",
    "    \"closed_palm\": \"models/haar/closed_frontal_palm.xml\",\n",
    "    \"fist\": \"models/haar/fist.xml\",\n",
    "    \"palm\": \"models/haar/palm.xml\"\n",
    "}\n",
    "detectors = {}\n",
    "for (name, path) in detectorPaths.items():\n",
    "    detectors[name] = cv2.CascadeClassifier(path)\n",
    "img = cv2.resize(img, (500,500))\n",
    "gray = cv2.cvtColor(img, cv2.COLOR_BGR2GRAY)\n",
    "\n",
    "\n",
    "result = detectors[\"palm\"].detectMultiScale(\n",
    "        gray, scaleFactor=1.05, minNeighbors=5, minSize=(30, 30),\n",
    "        flags=cv2.CASCADE_SCALE_IMAGE)\n",
    "\n",
    "result"
   ]
  }
 ],
 "metadata": {
  "kernelspec": {
   "display_name": "Python 3",
   "language": "python",
   "name": "python3"
  },
  "language_info": {
   "codemirror_mode": {
    "name": "ipython",
    "version": 3
   },
   "file_extension": ".py",
   "mimetype": "text/x-python",
   "name": "python",
   "nbconvert_exporter": "python",
   "pygments_lexer": "ipython3",
   "version": "3.6.8"
  }
 },
 "nbformat": 4,
 "nbformat_minor": 4
}
